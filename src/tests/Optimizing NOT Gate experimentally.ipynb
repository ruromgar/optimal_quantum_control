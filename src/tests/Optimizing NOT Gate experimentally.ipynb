{
 "cells": [
  {
   "cell_type": "code",
   "execution_count": 4,
   "id": "186d575d",
   "metadata": {},
   "outputs": [
    {
     "name": "stderr",
     "output_type": "stream",
     "text": [
      "ibmqfactory.load_account:WARNING:2021-10-24 04:45:23,745: Credentials are already in use. The existing account in the session will be replaced.\n"
     ]
    }
   ],
   "source": [
    "import sys\n",
    "sys.path.append('../../')\n",
    "\n",
    "# Libraries\n",
    "import numpy as np\n",
    "from oqc.optimal_quantum_control import OptimalQuantumControl, Direct_Fidelity_Estimation, Expected_Value_Pulse, circuit2schedule\n",
    "from qiskit import IBMQ, transpile\n",
    "from qiskit.utils import QuantumInstance\n",
    "from scipy.linalg import expm\n",
    "\n",
    "# Load the backend\n",
    "IBMQ.load_account()\n",
    "provider = IBMQ.get_provider(group='open')\n",
    "backend = provider.get_backend('ibmq_armonk')"
   ]
  },
  {
   "cell_type": "code",
   "execution_count": null,
   "id": "4aebae7a",
   "metadata": {},
   "outputs": [
    {
     "name": "stdout",
     "output_type": "stream",
     "text": [
      "2021-10-24 04:45:29,093: optimal_quantum_control: INFO: Optimizing fidelity...\n",
      "2021-10-24 04:45:29,094: optimal_quantum_control: INFO: Calculating fidelity on IBM-Q...\n",
      "2021-10-24 04:45:29,094: optimal_quantum_control: INFO: Calculating GRAPE pulse...\n",
      "0.899969482421875\n",
      "2021-10-24 04:51:11,753: optimal_quantum_control: INFO: Calculating fidelity on IBM-Q...\n",
      "2021-10-24 04:51:11,754: optimal_quantum_control: INFO: Calculating GRAPE pulse...\n",
      "0.7493103027343749\n",
      "2021-10-24 04:57:36,258: optimal_quantum_control: INFO: Calculating fidelity on IBM-Q...\n",
      "2021-10-24 04:57:36,259: optimal_quantum_control: INFO: Calculating GRAPE pulse...\n",
      "0.7962097167968749\n",
      "2021-10-24 05:04:05,062: optimal_quantum_control: INFO: Calculating fidelity on IBM-Q...\n",
      "2021-10-24 05:04:05,062: optimal_quantum_control: INFO: Calculating GRAPE pulse...\n",
      "0.6952026367187499\n",
      "2021-10-24 05:10:02,600: optimal_quantum_control: INFO: Calculating fidelity on IBM-Q...\n",
      "2021-10-24 05:10:02,600: optimal_quantum_control: INFO: Calculating GRAPE pulse...\n",
      "0.802203369140625\n",
      "2021-10-24 05:15:05,831: optimal_quantum_control: INFO: Calculating fidelity on IBM-Q...\n",
      "2021-10-24 05:15:05,831: optimal_quantum_control: INFO: Calculating GRAPE pulse...\n",
      "0.60069580078125\n",
      "2021-10-24 05:19:10,210: optimal_quantum_control: INFO: Calculating fidelity on IBM-Q...\n",
      "2021-10-24 05:19:10,211: optimal_quantum_control: INFO: Calculating GRAPE pulse...\n",
      "0.7023254394531249\n",
      "2021-10-24 05:23:40,457: optimal_quantum_control: INFO: Calculating fidelity on IBM-Q...\n",
      "2021-10-24 05:23:40,458: optimal_quantum_control: INFO: Calculating GRAPE pulse...\n",
      "0.792236328125\n",
      "2021-10-24 05:30:43,225: optimal_quantum_control: INFO: Calculating fidelity on IBM-Q...\n",
      "2021-10-24 05:30:43,225: optimal_quantum_control: INFO: Calculating GRAPE pulse...\n",
      "0.6551940917968749\n",
      "2021-10-24 05:37:07,637: optimal_quantum_control: INFO: Calculating fidelity on IBM-Q...\n",
      "2021-10-24 05:37:07,638: optimal_quantum_control: INFO: Calculating GRAPE pulse...\n",
      "0.8066650390625\n",
      "2021-10-24 05:46:14,395: optimal_quantum_control: INFO: Calculating fidelity on IBM-Q...\n",
      "2021-10-24 05:46:14,395: optimal_quantum_control: INFO: Calculating GRAPE pulse...\n",
      "0.751910400390625\n",
      "2021-10-24 05:52:26,674: optimal_quantum_control: INFO: Calculating fidelity on IBM-Q...\n",
      "2021-10-24 05:52:26,674: optimal_quantum_control: INFO: Calculating GRAPE pulse...\n",
      "0.8487365722656249\n",
      "2021-10-24 05:59:27,356: optimal_quantum_control: INFO: Calculating fidelity on IBM-Q...\n",
      "2021-10-24 05:59:27,357: optimal_quantum_control: INFO: Calculating GRAPE pulse...\n",
      "0.753082275390625\n",
      "2021-10-24 06:04:17,697: optimal_quantum_control: INFO: Calculating fidelity on IBM-Q...\n",
      "2021-10-24 06:04:17,698: optimal_quantum_control: INFO: Calculating GRAPE pulse...\n",
      "0.6478332519531249\n",
      "2021-10-24 06:08:53,153: optimal_quantum_control: INFO: Calculating fidelity on IBM-Q...\n",
      "2021-10-24 06:08:53,154: optimal_quantum_control: INFO: Calculating GRAPE pulse...\n",
      "0.7482666015624999\n",
      "2021-10-24 06:14:40,725: optimal_quantum_control: INFO: Calculating fidelity on IBM-Q...\n",
      "2021-10-24 06:14:40,726: optimal_quantum_control: INFO: Calculating GRAPE pulse...\n",
      "0.5970764160156249\n",
      "2021-10-24 06:19:01,281: optimal_quantum_control: INFO: Calculating fidelity on IBM-Q...\n",
      "2021-10-24 06:19:01,281: optimal_quantum_control: INFO: Calculating GRAPE pulse...\n"
     ]
    }
   ],
   "source": [
    "# Define initial parameters\n",
    "initial_control_params = np.random.random(10)\n",
    "time_derivative = 64\n",
    "target_gate = np.array([[0,1], [1, 0]])\n",
    "\n",
    "# Create the OptimalQuantumControl\n",
    "control = OptimalQuantumControl(initial_control_params, backend, time_derivative, target_gate, False)\n",
    "\n",
    "# Calculate the optimal parameters\n",
    "optimal = control.control()"
   ]
  },
  {
   "cell_type": "code",
   "execution_count": null,
   "id": "91fa4d36-f382-4295-92ee-c65251ac86cd",
   "metadata": {},
   "outputs": [],
   "source": [
    "optimal"
   ]
  },
  {
   "cell_type": "code",
   "execution_count": null,
   "id": "725fe81b-8123-4c85-ac1f-6954a03d7976",
   "metadata": {},
   "outputs": [],
   "source": [
    "schedule = control.grape_pulse(optimal)"
   ]
  },
  {
   "cell_type": "code",
   "execution_count": null,
   "id": "3135b398-de38-49c5-b59d-b81e3c1dbe25",
   "metadata": {},
   "outputs": [],
   "source": [
    "schedule.draw()"
   ]
  },
  {
   "cell_type": "code",
   "execution_count": null,
   "id": "a68306cb-cc4a-4c99-b5e5-be670327b78b",
   "metadata": {},
   "outputs": [],
   "source": [
    "Direct_Fidelity_Estimation( schedule, target_gate, 20, backend )"
   ]
  },
  {
   "cell_type": "code",
   "execution_count": null,
   "id": "9c39a8b3-1a4c-4f43-8c5c-9603cf1f93b4",
   "metadata": {},
   "outputs": [],
   "source": []
  },
  {
   "cell_type": "code",
   "execution_count": null,
   "id": "b8ccb280-b323-49a8-b3f4-9714102aa58f",
   "metadata": {},
   "outputs": [],
   "source": []
  }
 ],
 "metadata": {
  "kernelspec": {
   "display_name": "Python 3 (ipykernel)",
   "language": "python",
   "name": "python3"
  },
  "language_info": {
   "codemirror_mode": {
    "name": "ipython",
    "version": 3
   },
   "file_extension": ".py",
   "mimetype": "text/x-python",
   "name": "python",
   "nbconvert_exporter": "python",
   "pygments_lexer": "ipython3",
   "version": "3.9.5"
  }
 },
 "nbformat": 4,
 "nbformat_minor": 5
}
