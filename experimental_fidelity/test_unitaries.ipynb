{
 "cells": [
  {
   "cell_type": "code",
   "execution_count": 1,
   "id": "f1e12e14-f126-453c-bb21-8c3efe973b3e",
   "metadata": {},
   "outputs": [],
   "source": [
    "from Direct_Fidelity_Estimation_gates import *"
   ]
  },
  {
   "cell_type": "code",
   "execution_count": 105,
   "id": "e3222286-84de-451e-a226-f3b3903442b7",
   "metadata": {},
   "outputs": [],
   "source": [
    "θ = np.random.randn(1)\n",
    "ϕ = 4*np.pi/5"
   ]
  },
  {
   "cell_type": "code",
   "execution_count": 106,
   "id": "6ef6596c-aa11-46a1-8982-1bfe847646f9",
   "metadata": {},
   "outputs": [],
   "source": [
    "U = np.array( [ [ np.exp(-1j*ϕ/2), 0 ] , [0, np.exp(1j*ϕ/2)] ] )\n",
    "V = np.array( [ [ np.cos(θ), np.sin(θ)], [np.sin(θ), -np.cos(θ)] ] )"
   ]
  },
  {
   "cell_type": "code",
   "execution_count": 107,
   "id": "a17a01a7-639b-4168-b875-2828a55b4829",
   "metadata": {},
   "outputs": [
    {
     "data": {
      "text/plain": [
       "array([[0.30901699-0.95105652j, 0.        +0.j        ],\n",
       "       [0.        +0.j        , 0.30901699+0.95105652j]])"
      ]
     },
     "execution_count": 107,
     "metadata": {},
     "output_type": "execute_result"
    }
   ],
   "source": [
    "U"
   ]
  },
  {
   "cell_type": "code",
   "execution_count": 108,
   "id": "0cf0f469-a792-4f26-9ebb-c629b2f01df1",
   "metadata": {},
   "outputs": [
    {
     "data": {
      "text/plain": [
       "array([[[-0.33864604],\n",
       "        [ 0.94091384]],\n",
       "\n",
       "       [[ 0.94091384],\n",
       "        [ 0.33864604]]])"
      ]
     },
     "execution_count": 108,
     "metadata": {},
     "output_type": "execute_result"
    }
   ],
   "source": [
    "V"
   ]
  },
  {
   "cell_type": "code",
   "execution_count": 109,
   "id": "e49cc727-3d80-4c0b-a038-4a7f3ba19227",
   "metadata": {},
   "outputs": [
    {
     "data": {
      "text/plain": [
       "array([0.10373007])"
      ]
     },
     "execution_count": 109,
     "metadata": {},
     "output_type": "execute_result"
    }
   ],
   "source": [
    "abs(np.trace(U.T.conj()@V))**2/4"
   ]
  },
  {
   "cell_type": "code",
   "execution_count": 110,
   "id": "46ca9eb1-abad-4865-a6fc-228ce1132e67",
   "metadata": {},
   "outputs": [],
   "source": [
    "M = 5"
   ]
  },
  {
   "cell_type": "code",
   "execution_count": 111,
   "id": "f7b75db0-f721-4a54-9fde-ab75fbce167c",
   "metadata": {},
   "outputs": [],
   "source": [
    "σ = np.outer( V.flatten(), V.flatten().conj() )\n",
    "n = int( np.log2( σ.shape[0] ) )\n",
    "paulis = np.array( [ [1,0,0,1], [0,1,1,0], [0,-1j,1j,0], [1,0,0,-1] ] ).reshape(4,2,2) / np.sqrt(2) \n",
    "Pk = n*[ paulis ]\n",
    "σk = np.real( InnerProductMatrices( σ, Pk ) ).flatten()\n",
    "qk = np.real( σk**2 )\n",
    "Index = rm.choices( range(4**n), qk, k = M )"
   ]
  },
  {
   "cell_type": "code",
   "execution_count": 112,
   "id": "1610323a-9831-4df8-b2ff-0b10696bf72c",
   "metadata": {},
   "outputs": [
    {
     "data": {
      "text/plain": [
       "array([[ 0.11468114, -0.31863675, -0.31863675, -0.11468114],\n",
       "       [-0.31863675,  0.88531886,  0.88531886,  0.31863675],\n",
       "       [-0.31863675,  0.88531886,  0.88531886,  0.31863675],\n",
       "       [-0.11468114,  0.31863675,  0.31863675,  0.11468114]])"
      ]
     },
     "execution_count": 112,
     "metadata": {},
     "output_type": "execute_result"
    }
   ],
   "source": [
    "σ"
   ]
  },
  {
   "cell_type": "code",
   "execution_count": 113,
   "id": "68a63254-6530-4cd3-b083-95837553b779",
   "metadata": {},
   "outputs": [],
   "source": [
    "ρ   = np.outer( U.flatten(), U.flatten().conj() )\n",
    "ρk  = np.real( InnerProductMatrices( ρ, Pk ) ).flatten()\n",
    "ρki = ρk[Index] \n",
    "ρki_exact = ρki"
   ]
  },
  {
   "cell_type": "code",
   "execution_count": 114,
   "id": "4a172cf3-91e5-4e13-b0f8-d139a1d46d06",
   "metadata": {},
   "outputs": [
    {
     "data": {
      "text/plain": [
       "array([ 0.        ,  1.        ,  1.        ,  0.80901699, -0.80901699])"
      ]
     },
     "execution_count": 114,
     "metadata": {},
     "output_type": "execute_result"
    }
   ],
   "source": [
    "ρki"
   ]
  },
  {
   "cell_type": "code",
   "execution_count": 115,
   "id": "a4558b58-ccc9-4f43-bffc-766eacc058fa",
   "metadata": {},
   "outputs": [
    {
     "data": {
      "text/plain": [
       "array([[ 1.        +0.j        ,  0.        -0.j        ,\n",
       "         0.        -0.j        , -0.80901699-0.58778525j],\n",
       "       [ 0.        +0.j        ,  0.        +0.j        ,\n",
       "         0.        +0.j        ,  0.        +0.j        ],\n",
       "       [ 0.        +0.j        ,  0.        +0.j        ,\n",
       "         0.        +0.j        ,  0.        +0.j        ],\n",
       "       [-0.80901699+0.58778525j,  0.        +0.j        ,\n",
       "         0.        +0.j        ,  1.        +0.j        ]])"
      ]
     },
     "execution_count": 115,
     "metadata": {},
     "output_type": "execute_result"
    }
   ],
   "source": [
    "ρ"
   ]
  },
  {
   "cell_type": "code",
   "execution_count": 116,
   "id": "592a5d59-3dba-4d02-9f41-5928c0399ab1",
   "metadata": {},
   "outputs": [
    {
     "data": {
      "text/plain": [
       "0.3518430038254289"
      ]
     },
     "execution_count": 116,
     "metadata": {},
     "output_type": "execute_result"
    }
   ],
   "source": [
    "σki = σk[Index] \n",
    "Fid = np.real( np.sum( ρki/σki )/M ) \n",
    "Fid"
   ]
  },
  {
   "cell_type": "code",
   "execution_count": 117,
   "id": "36668d4d-b9c1-4872-9431-c4963f70f653",
   "metadata": {},
   "outputs": [
    {
     "data": {
      "text/plain": [
       "<qiskit.circuit.instructionset.InstructionSet at 0x236c622e850>"
      ]
     },
     "execution_count": 117,
     "metadata": {},
     "output_type": "execute_result"
    }
   ],
   "source": [
    "circ_U = QuantumCircuit(1)\n",
    "circ_U.rz(ϕ,0)"
   ]
  },
  {
   "cell_type": "code",
   "execution_count": 118,
   "id": "25e2c9af-dee6-445f-81e5-a7a3f24243cd",
   "metadata": {},
   "outputs": [
    {
     "data": {
      "text/plain": [
       "['31', '00', '00', '22', '11']"
      ]
     },
     "execution_count": 118,
     "metadata": {},
     "output_type": "execute_result"
    }
   ],
   "source": [
    "Index_b4 = [ convert_to_base( index, 4, n) for index in Index]\n",
    "Labels = Index_b4\n",
    "Labels"
   ]
  },
  {
   "cell_type": "code",
   "execution_count": 119,
   "id": "d300dc22-9699-43b6-a09c-39d7444ddff4",
   "metadata": {},
   "outputs": [],
   "source": [
    "n = circ_U.num_qubits\n",
    "M = len(Labels)\n",
    "\n",
    "if not isinstance(Labels, list):\n",
    "    Labels = [Labels]\n",
    "\n",
    "EigenValues = [\n",
    "            np.array([ 1.,  1. ]),\n",
    "            np.array([ 1., -1. ]),\n",
    "            np.array([ 1., -1. ]),\n",
    "            np.array([ 1., -1. ])\n",
    "            ] \n",
    "\n",
    "Circuits = []\n",
    "Labels_out = []\n",
    "ExpectedValues = M*[None]\n",
    "Indx = []\n",
    "\n",
    "for m in range(M):\n",
    "    label = Labels[m]\n",
    "    if label == ''.zfill(2*n):\n",
    "        ExpectedValues[m] = 1  \n",
    "    else:\n",
    "        Indx.append(m)\n",
    "        Labels_out.append(label)\n",
    "        circuit_0 = QuantumCircuit(n,n)\n",
    "        circuit_1 = QuantumCircuit(n,n)\n",
    "        \n",
    "        for k in range(n):\n",
    "            idex = label[::-1][n+k]\n",
    "            if idex == '3' or  idex == '0':\n",
    "                \n",
    "                circuit_0.barrier()\n",
    "                circuit_0.compose( circ_U, qubits=range(n), inplace=True) \n",
    "                circuit_0.barrier()\n",
    "                \n",
    "                circuit_1.x(k)\n",
    "                circuit_1.barrier()\n",
    "                circuit_1.compose( circ_U, qubits=range(n), inplace=True) \n",
    "                circuit_1.barrier()\n",
    "                \n",
    "            elif idex == '1':\n",
    "                circuit_0.h(k)\n",
    "                circuit_0.barrier()\n",
    "                circuit_0.compose( circ_U, qubits=range(n), inplace=True) \n",
    "                circuit_0.barrier()\n",
    "                \n",
    "                circuit_1.x(k)\n",
    "                circuit_1.h(k)\n",
    "                circuit_1.barrier()\n",
    "                circuit_1.compose( circ_U, qubits=range(n), inplace=True) \n",
    "                circuit_1.barrier()\n",
    "                \n",
    "            elif idex == '2':\n",
    "                circuit_0.u2( np.pi/2, np.pi, k )\n",
    "                circuit_0.barrier()\n",
    "                circuit_0.compose( circ_U, qubits=range(n), inplace=True) \n",
    "                circuit_0.barrier()\n",
    "                                \n",
    "                circuit_1.x(k)\n",
    "                circuit_1.u2( np.pi/2, np.pi, k )\n",
    "                circuit_1.barrier()\n",
    "                circuit_1.compose( circ_U, qubits=range(n), inplace=True) \n",
    "                circuit_1.barrier()\n",
    "                \n",
    "        for k in range(n):\n",
    "            idex = label[::-1][k]\n",
    "            if idex == '1':\n",
    "                circuit_0.h(k)\n",
    "                circuit_1.h(k)\n",
    "            elif idex == '2':\n",
    "                circuit_0.u2( 0, -np.pi/2, k )\n",
    "                circuit_1.u2( 0, -np.pi/2, k )\n",
    "                \n",
    "        circuit_0.measure( range(n), range(n) )\n",
    "        circuit_1.measure( range(n), range(n) )\n",
    "        \n",
    "        Circuits.append( circuit_0 )\n",
    "        Circuits.append( circuit_1 )"
   ]
  },
  {
   "cell_type": "code",
   "execution_count": 120,
   "id": "29a8a4e0-40fe-455c-8f3f-ed5da55c6841",
   "metadata": {},
   "outputs": [
    {
     "data": {
      "text/html": [
       "<pre style=\"word-wrap: normal;white-space: pre;background: #fff0;line-height: 1.1;font-family: &quot;Courier New&quot;,Courier,monospace\">      ░ ┌──────────┐ ░ ┌───┐┌─┐\n",
       "q_0: ─░─┤ Rz(4π/5) ├─░─┤ H ├┤M├\n",
       "      ░ └──────────┘ ░ └───┘└╥┘\n",
       "c: 1/════════════════════════╩═\n",
       "                             0 </pre>"
      ],
      "text/plain": [
       "      ░ ┌──────────┐ ░ ┌───┐┌─┐\n",
       "q_0: ─░─┤ Rz(4π/5) ├─░─┤ H ├┤M├\n",
       "      ░ └──────────┘ ░ └───┘└╥┘\n",
       "c: 1/════════════════════════╩═\n",
       "                             0 "
      ]
     },
     "execution_count": 120,
     "metadata": {},
     "output_type": "execute_result"
    }
   ],
   "source": [
    "Circuits[0].draw()"
   ]
  },
  {
   "cell_type": "code",
   "execution_count": 121,
   "id": "90bc4545-0519-4a86-9443-2fd524381e4f",
   "metadata": {},
   "outputs": [
    {
     "data": {
      "text/html": [
       "<pre style=\"word-wrap: normal;white-space: pre;background: #fff0;line-height: 1.1;font-family: &quot;Courier New&quot;,Courier,monospace\">     ┌───┐ ░ ┌──────────┐ ░ ┌───┐┌─┐\n",
       "q_0: ┤ X ├─░─┤ Rz(4π/5) ├─░─┤ H ├┤M├\n",
       "     └───┘ ░ └──────────┘ ░ └───┘└╥┘\n",
       "c: 1/═════════════════════════════╩═\n",
       "                                  0 </pre>"
      ],
      "text/plain": [
       "     ┌───┐ ░ ┌──────────┐ ░ ┌───┐┌─┐\n",
       "q_0: ┤ X ├─░─┤ Rz(4π/5) ├─░─┤ H ├┤M├\n",
       "     └───┘ ░ └──────────┘ ░ └───┘└╥┘\n",
       "c: 1/═════════════════════════════╩═\n",
       "                                  0 "
      ]
     },
     "execution_count": 121,
     "metadata": {},
     "output_type": "execute_result"
    }
   ],
   "source": [
    "Circuits[1].draw()"
   ]
  },
  {
   "cell_type": "code",
   "execution_count": 122,
   "id": "c1fe47da-7b04-4058-9351-c3ad7971f9b3",
   "metadata": {},
   "outputs": [
    {
     "data": {
      "text/plain": [
       "6"
      ]
     },
     "execution_count": 122,
     "metadata": {},
     "output_type": "execute_result"
    }
   ],
   "source": [
    "len( Circuits )"
   ]
  },
  {
   "cell_type": "code",
   "execution_count": 123,
   "id": "68c9c530-6e2d-43bb-9590-7bd29c9467b7",
   "metadata": {},
   "outputs": [],
   "source": [
    "quantum_instance = QuantumInstance( Aer.get_backend('aer_simulator'), shots=2**13 )"
   ]
  },
  {
   "cell_type": "code",
   "execution_count": 124,
   "id": "a3c5b3c0-4d9a-435b-a471-92d1ad67dcf2",
   "metadata": {},
   "outputs": [],
   "source": [
    "Job = quantum_instance.execute( Circuits )"
   ]
  },
  {
   "cell_type": "code",
   "execution_count": 140,
   "id": "267f436e-9654-4df2-adb3-e27587b87f44",
   "metadata": {},
   "outputs": [],
   "source": [
    "probs = get_probabilities( Job )"
   ]
  },
  {
   "cell_type": "code",
   "execution_count": 133,
   "id": "5e94b0ac-b9d6-4da8-b30f-64a96f4545d6",
   "metadata": {},
   "outputs": [
    {
     "data": {
      "text/plain": [
       "(4, 3)"
      ]
     },
     "execution_count": 133,
     "metadata": {},
     "output_type": "execute_result"
    }
   ],
   "source": [
    "probs.shape"
   ]
  },
  {
   "cell_type": "code",
   "execution_count": 134,
   "id": "5e0b5104-2c76-4083-99ee-5fb039b5e645",
   "metadata": {},
   "outputs": [
    {
     "data": {
      "text/plain": [
       "['31', '22', '11']"
      ]
     },
     "execution_count": 134,
     "metadata": {},
     "output_type": "execute_result"
    }
   ],
   "source": [
    "Labels_out"
   ]
  },
  {
   "cell_type": "code",
   "execution_count": 135,
   "id": "58683ff7-bfe4-459f-8c59-3a11ea7c3f0a",
   "metadata": {},
   "outputs": [],
   "source": [
    "for j in range( 0,len(Labels_out)):\n",
    "    ExpectedValues[Indx[j]] = LocalProduct( probs[:,j].T , \n",
    "                                  [ EigenValues[int(Labels_out[j][k])] for k in range(n) ]  )[0] "
   ]
  },
  {
   "cell_type": "code",
   "execution_count": 136,
   "id": "6ccc0a21-e419-418b-9ae8-9dbf4b8cf754",
   "metadata": {},
   "outputs": [],
   "source": [
    "ρki = ExpectedValues"
   ]
  },
  {
   "cell_type": "code",
   "execution_count": 137,
   "id": "6f1f8ace-48ac-4750-b0b7-ec52801f74e7",
   "metadata": {},
   "outputs": [
    {
     "data": {
      "text/plain": [
       "0.6176317850482426"
      ]
     },
     "execution_count": 137,
     "metadata": {},
     "output_type": "execute_result"
    }
   ],
   "source": [
    "σki = σk[Index] \n",
    "Fid = np.real( np.sum( ρki/σki )/M ) \n",
    "Fid "
   ]
  },
  {
   "cell_type": "code",
   "execution_count": 138,
   "id": "16916a7e-7f39-4207-a178-58dc874f8290",
   "metadata": {},
   "outputs": [
    {
     "name": "stdout",
     "output_type": "stream",
     "text": [
      "[['-0.0126953125' '0.0' '31']\n",
      " ['1' '0.9999999999999997' '00']\n",
      " ['1' '0.9999999999999997' '00']\n",
      " ['0.013916015625' '0.8090169943749471' '22']\n",
      " ['0.8125' '-0.8090169943749471' '11']]\n"
     ]
    }
   ],
   "source": [
    "l = 7\n",
    "print( np.array( [ ρki, ρki_exact, Labels] ).T )"
   ]
  },
  {
   "cell_type": "code",
   "execution_count": 141,
   "id": "f74da9d0-e44c-400e-9818-c3eb85fd8ed3",
   "metadata": {},
   "outputs": [
    {
     "data": {
      "text/plain": [
       "array([[0.49365234, 0.50695801, 0.90625   , 0.09411621, 0.09533691,\n",
       "        0.91003418],\n",
       "       [0.50634766, 0.49304199, 0.09375   , 0.90588379, 0.90466309,\n",
       "        0.08996582]])"
      ]
     },
     "execution_count": 141,
     "metadata": {},
     "output_type": "execute_result"
    }
   ],
   "source": [
    "probs"
   ]
  },
  {
   "cell_type": "code",
   "execution_count": 142,
   "id": "91bee952-2b90-4fae-badf-a54bb8479584",
   "metadata": {},
   "outputs": [
    {
     "data": {
      "text/html": [
       "<pre style=\"word-wrap: normal;white-space: pre;background: #fff0;line-height: 1.1;font-family: &quot;Courier New&quot;,Courier,monospace\">      ░ ┌──────────┐ ░ ┌───┐┌─┐\n",
       "q_0: ─░─┤ Rz(4π/5) ├─░─┤ H ├┤M├\n",
       "      ░ └──────────┘ ░ └───┘└╥┘\n",
       "c: 1/════════════════════════╩═\n",
       "                             0 </pre>"
      ],
      "text/plain": [
       "      ░ ┌──────────┐ ░ ┌───┐┌─┐\n",
       "q_0: ─░─┤ Rz(4π/5) ├─░─┤ H ├┤M├\n",
       "      ░ └──────────┘ ░ └───┘└╥┘\n",
       "c: 1/════════════════════════╩═\n",
       "                             0 "
      ]
     },
     "execution_count": 142,
     "metadata": {},
     "output_type": "execute_result"
    }
   ],
   "source": [
    "Circuits[0].draw()"
   ]
  },
  {
   "cell_type": "code",
   "execution_count": null,
   "id": "c1b37d9d-f4fa-494a-b444-5ecf7870555f",
   "metadata": {},
   "outputs": [],
   "source": []
  },
  {
   "cell_type": "code",
   "execution_count": null,
   "id": "f08315e6-aaa7-4035-a3b3-2813106e5f27",
   "metadata": {},
   "outputs": [],
   "source": []
  }
 ],
 "metadata": {
  "kernelspec": {
   "display_name": "Python 3 (ipykernel)",
   "language": "python",
   "name": "python3"
  },
  "language_info": {
   "codemirror_mode": {
    "name": "ipython",
    "version": 3
   },
   "file_extension": ".py",
   "mimetype": "text/x-python",
   "name": "python",
   "nbconvert_exporter": "python",
   "pygments_lexer": "ipython3",
   "version": "3.9.5"
  }
 },
 "nbformat": 4,
 "nbformat_minor": 5
}
